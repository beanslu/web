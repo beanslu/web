{
 "cells": [
  {
   "cell_type": "code",
   "execution_count": 49,
   "metadata": {},
   "outputs": [],
   "source": [
    "from jinja2 import Environment, FileSystemLoader\n",
    "import pandas as pd\n",
    "import json"
   ]
  },
  {
   "cell_type": "code",
   "execution_count": 50,
   "metadata": {},
   "outputs": [],
   "source": [
    "def page_link(a):\n",
    "    if ' ' in a:\n",
    "        return a.replace(\" \", \"_\")\n",
    "    else: \n",
    "        return a"
   ]
  },
  {
   "cell_type": "code",
   "execution_count": 51,
   "metadata": {},
   "outputs": [],
   "source": [
    "f = open('jsons/general.json')\n",
    "general = json.load(f)\n",
    "\n",
    "e = open('jsons/pi.json')\n",
    "prin = json.load(e)\n",
    "\n",
    "g = open('jsons/post_docs.json')\n",
    "post_docs = json.load(g)\n",
    "\n",
    "h = open('jsons/grad_students.json')\n",
    "grad_students = json.load(h)\n",
    "\n",
    "i = open('jsons/undergrads.json')\n",
    "undergrads = json.load(i)"
   ]
  },
  {
   "cell_type": "code",
   "execution_count": 52,
   "metadata": {},
   "outputs": [],
   "source": [
    "environment = Environment(loader=FileSystemLoader(\"templates/\"))\n",
    "environment.globals['page_link'] = page_link\n",
    "template = environment.get_template(\"individual_person.html.j2\")"
   ]
  },
  {
   "cell_type": "code",
   "execution_count": 53,
   "metadata": {},
   "outputs": [],
   "source": [
    "for role in [prin, post_docs, grad_students, undergrads]:\n",
    "    for person in role:\n",
    "        filename = f\"{ page_link(person['name']) }.html\"\n",
    "        content = template.render(\n",
    "            general=general,\n",
    "            person=person\n",
    "        )\n",
    "        with open(filename, mode=\"w\", encoding=\"utf-8\") as page:\n",
    "            page.write(content)\n"
   ]
  },
  {
   "cell_type": "code",
   "execution_count": 54,
   "metadata": {},
   "outputs": [],
   "source": [
    "f.close()\n",
    "e.close()\n",
    "g.close()\n",
    "h.close()\n",
    "i.close()"
   ]
  }
 ],
 "metadata": {
  "kernelspec": {
   "display_name": "Python 3.10.4 ('cmse_202_conda')",
   "language": "python",
   "name": "python3"
  },
  "language_info": {
   "codemirror_mode": {
    "name": "ipython",
    "version": 3
   },
   "file_extension": ".py",
   "mimetype": "text/x-python",
   "name": "python",
   "nbconvert_exporter": "python",
   "pygments_lexer": "ipython3",
   "version": "3.10.4"
  },
  "vscode": {
   "interpreter": {
    "hash": "76114b7378daabac0adaf45999136d506a4fe02ddaec5af89d55add2ce71883e"
   }
  }
 },
 "nbformat": 4,
 "nbformat_minor": 2
}
