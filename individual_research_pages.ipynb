{
 "cells": [
  {
   "cell_type": "code",
   "execution_count": 67,
   "metadata": {},
   "outputs": [],
   "source": [
    "from jinja2 import Environment, FileSystemLoader\n",
    "import pandas as pd\n",
    "import json"
   ]
  },
  {
   "cell_type": "code",
   "execution_count": 68,
   "metadata": {},
   "outputs": [],
   "source": [
    "def page_link(a):\n",
    "    if ' ' in a:\n",
    "        return a.replace(\" \", \"_\")\n",
    "    else: \n",
    "        return a"
   ]
  },
  {
   "cell_type": "code",
   "execution_count": 69,
   "metadata": {},
   "outputs": [],
   "source": [
    "f = open('jsons/general.json')\n",
    "general = json.load(f)\n",
    "\n",
    "e = open('jsons/research.json')\n",
    "research = json.load(e)"
   ]
  },
  {
   "cell_type": "code",
   "execution_count": 70,
   "metadata": {},
   "outputs": [],
   "source": [
    "environment = Environment(loader=FileSystemLoader(\"templates/\"))\n",
    "environment.globals['page_link'] = page_link\n",
    "template_no_twitter = environment.get_template(\"research_page_no_twitter.html.j2\")\n",
    "template_twitter = environment.get_template(\"research_page_twitter.html.j2\")"
   ]
  },
  {
   "cell_type": "code",
   "execution_count": 71,
   "metadata": {},
   "outputs": [],
   "source": [
    "for project in research:\n",
    "    filename = f\"{ page_link(project['name']) }.html\"\n",
    "    if project[\"twitter\"] == \"None\":\n",
    "        content = template_no_twitter.render(\n",
    "            general=general,\n",
    "            research=project\n",
    "        )\n",
    "        with open(filename, mode=\"w\", encoding=\"utf-8\") as message:\n",
    "            message.write(content)\n",
    "    else:\n",
    "        content = template_twitter.render(\n",
    "            general=general,\n",
    "            research=project\n",
    "        )\n",
    "        with open(filename, mode=\"w\", encoding=\"utf-8\") as message:\n",
    "            message.write(content)\n",
    "\n"
   ]
  },
  {
   "cell_type": "code",
   "execution_count": 72,
   "metadata": {},
   "outputs": [],
   "source": [
    "f.close()\n",
    "e.close()\n"
   ]
  },
  {
   "cell_type": "code",
   "execution_count": null,
   "metadata": {},
   "outputs": [],
   "source": []
  }
 ],
 "metadata": {
  "kernelspec": {
   "display_name": "Python 3.10.4 ('cmse_202_conda')",
   "language": "python",
   "name": "python3"
  },
  "language_info": {
   "codemirror_mode": {
    "name": "ipython",
    "version": 3
   },
   "file_extension": ".py",
   "mimetype": "text/x-python",
   "name": "python",
   "nbconvert_exporter": "python",
   "pygments_lexer": "ipython3",
   "version": "3.10.4"
  },
  "vscode": {
   "interpreter": {
    "hash": "76114b7378daabac0adaf45999136d506a4fe02ddaec5af89d55add2ce71883e"
   }
  }
 },
 "nbformat": 4,
 "nbformat_minor": 2
}
